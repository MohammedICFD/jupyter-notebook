{
 "cells": [
  {
   "cell_type": "markdown",
   "id": "aa70b51f-3927-4c33-8228-7be44a51bf6c",
   "metadata": {},
   "source": [
    "# Data Science Tools and Ecosystem"
   ]
  },
  {
   "cell_type": "markdown",
   "id": "295b27e9-1fe4-4426-ae29-7e922766fee9",
   "metadata": {},
   "source": [
    "## Data Science Tools and Ecosystem are summarized."
   ]
  },
  {
   "cell_type": "markdown",
   "id": "880a36d4-94ba-4f48-b9ee-08172a8700ba",
   "metadata": {},
   "source": [
    "**Objectives:**\n",
    "- Some of the popular languages that Data Scientists use\n",
    "- Some of the commonly used libraries used by Data Scientists\n",
    "- Data Science Tools\n",
    "- simple arithmetic expression to mutiply then add integers\n",
    "\n"
   ]
  },
  {
   "cell_type": "markdown",
   "id": "f36b0117-b2ef-4407-bc54-5b18ccee2839",
   "metadata": {},
   "source": [
    "Some of the popular languages that Data Scientists use are:\n",
    "1. Python\n",
    "2. R\n",
    "3. SQL\n",
    "4. julia\n",
    "5. scala\n",
    "6. java"
   ]
  },
  {
   "cell_type": "markdown",
   "id": "033bc617-d0ac-4422-9508-9711fb5dd3dc",
   "metadata": {},
   "source": [
    "Some of the commonly used libraries used by Data Scientists include:\n",
    "1. numPy\n",
    "2. TensorFlow\n",
    "3. Scikit\n",
    "4. matplotlib"
   ]
  },
  {
   "cell_type": "markdown",
   "id": "7336b3ff-3897-4603-8ebb-1d3cb1c38320",
   "metadata": {},
   "source": [
    "| Data Science Tools|\n",
    "|:--------:|\n",
    "|  Apache Spark   |\n",
    "|  Matplotlib   |\n",
    "|  tensorFlow   |\n"
   ]
  },
  {
   "cell_type": "markdown",
   "id": "c919db41-b67b-464b-966e-0aa117c30452",
   "metadata": {},
   "source": [
    "### Below are a few examples of evaluating arithmetic expressions in Python."
   ]
  },
  {
   "cell_type": "markdown",
   "id": "c6d95706-ae99-4463-a9ee-9d5beaefc2c1",
   "metadata": {},
   "source": [
    "This a simple arithmetic expression to mutiply then add integers"
   ]
  },
  {
   "cell_type": "code",
   "execution_count": 9,
   "id": "282108fe-23d4-4979-a008-782c197acf97",
   "metadata": {},
   "outputs": [
    {
     "data": {
      "text/plain": [
       "17"
      ]
     },
     "execution_count": 9,
     "metadata": {},
     "output_type": "execute_result"
    }
   ],
   "source": [
    "\n",
    "(3*4)+5\n"
   ]
  },
  {
   "cell_type": "markdown",
   "id": "0bb6a86c-a780-4189-8c5f-9a17efe12314",
   "metadata": {},
   "source": [
    "This will convert 200 minutes to hours by diving by 60."
   ]
  },
  {
   "cell_type": "code",
   "execution_count": 7,
   "id": "3936dc36-3ca7-4afe-9ab1-3665870d2e3f",
   "metadata": {},
   "outputs": [
    {
     "data": {
      "text/plain": [
       "3.3333333333333335"
      ]
     },
     "execution_count": 7,
     "metadata": {},
     "output_type": "execute_result"
    }
   ],
   "source": [
    "\n",
    "200/60"
   ]
  },
  {
   "cell_type": "markdown",
   "id": "f3e3f5c5-c579-46f4-8f88-8e56f3c1b8ce",
   "metadata": {},
   "source": [
    "## Author\n",
    "Mohammed Irshad"
   ]
  }
 ],
 "metadata": {
  "kernelspec": {
   "display_name": "Python 3 (ipykernel)",
   "language": "python",
   "name": "python3"
  },
  "language_info": {
   "codemirror_mode": {
    "name": "ipython",
    "version": 3
   },
   "file_extension": ".py",
   "mimetype": "text/x-python",
   "name": "python",
   "nbconvert_exporter": "python",
   "pygments_lexer": "ipython3",
   "version": "3.12.5"
  }
 },
 "nbformat": 4,
 "nbformat_minor": 5
}
